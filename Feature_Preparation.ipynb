{
 "cells": [
  {
   "cell_type": "code",
   "execution_count": 1,
   "metadata": {},
   "outputs": [],
   "source": [
    "import pandas as pd\n",
    "import matplotlib.pyplot as plt\n",
    "import numpy as np\n",
    "import joblib\n",
    "# import reverse-geocode"
   ]
  },
  {
   "cell_type": "code",
   "execution_count": 2,
   "metadata": {},
   "outputs": [
    {
     "data": {
      "text/html": [
       "<div>\n",
       "<style scoped>\n",
       "    .dataframe tbody tr th:only-of-type {\n",
       "        vertical-align: middle;\n",
       "    }\n",
       "\n",
       "    .dataframe tbody tr th {\n",
       "        vertical-align: top;\n",
       "    }\n",
       "\n",
       "    .dataframe thead th {\n",
       "        text-align: right;\n",
       "    }\n",
       "</style>\n",
       "<table border=\"1\" class=\"dataframe\">\n",
       "  <thead>\n",
       "    <tr style=\"text-align: right;\">\n",
       "      <th></th>\n",
       "      <th>eventTimeStart</th>\n",
       "      <th>latStart</th>\n",
       "      <th>lonStart</th>\n",
       "      <th>latEnd</th>\n",
       "      <th>lonEnd</th>\n",
       "    </tr>\n",
       "  </thead>\n",
       "  <tbody>\n",
       "    <tr>\n",
       "      <th>5554</th>\n",
       "      <td>2016-02-29 21:50:19</td>\n",
       "      <td>40.725563</td>\n",
       "      <td>-73.951843</td>\n",
       "      <td>40.643845</td>\n",
       "      <td>-73.783241</td>\n",
       "    </tr>\n",
       "    <tr>\n",
       "      <th>5555</th>\n",
       "      <td>2016-02-29 22:31:02</td>\n",
       "      <td>40.766590</td>\n",
       "      <td>-73.921333</td>\n",
       "      <td>40.643845</td>\n",
       "      <td>-73.783241</td>\n",
       "    </tr>\n",
       "    <tr>\n",
       "      <th>5556</th>\n",
       "      <td>2016-02-29 22:52:22</td>\n",
       "      <td>40.806976</td>\n",
       "      <td>-73.950020</td>\n",
       "      <td>40.643845</td>\n",
       "      <td>-73.783241</td>\n",
       "    </tr>\n",
       "    <tr>\n",
       "      <th>5557</th>\n",
       "      <td>2016-02-29 23:39:56</td>\n",
       "      <td>40.721992</td>\n",
       "      <td>-73.957787</td>\n",
       "      <td>40.643845</td>\n",
       "      <td>-73.783241</td>\n",
       "    </tr>\n",
       "    <tr>\n",
       "      <th>5558</th>\n",
       "      <td>2016-02-29 23:15:47</td>\n",
       "      <td>40.705406</td>\n",
       "      <td>-73.950012</td>\n",
       "      <td>40.643845</td>\n",
       "      <td>-73.783241</td>\n",
       "    </tr>\n",
       "  </tbody>\n",
       "</table>\n",
       "</div>"
      ],
      "text/plain": [
       "          eventTimeStart   latStart   lonStart     latEnd     lonEnd\n",
       "5554 2016-02-29 21:50:19  40.725563 -73.951843  40.643845 -73.783241\n",
       "5555 2016-02-29 22:31:02  40.766590 -73.921333  40.643845 -73.783241\n",
       "5556 2016-02-29 22:52:22  40.806976 -73.950020  40.643845 -73.783241\n",
       "5557 2016-02-29 23:39:56  40.721992 -73.957787  40.643845 -73.783241\n",
       "5558 2016-02-29 23:15:47  40.705406 -73.950012  40.643845 -73.783241"
      ]
     },
     "execution_count": 2,
     "metadata": {},
     "output_type": "execute_result"
    }
   ],
   "source": [
    "processed_df = pd.read_csv(\"my_processed_df.csv\")\n",
    "processed_df[\"eventTimeStart\"] = pd.to_datetime(processed_df.eventTimeStart, format=\"%Y-%m-%dT%H:%M:%S\")\n",
    "processed_df.tail()"
   ]
  },
  {
   "cell_type": "code",
   "execution_count": 3,
   "metadata": {},
   "outputs": [],
   "source": [
    "processed_df[\"week\"] = processed_df.eventTimeStart.dt.week\n",
    "processed_df[\"dayofweek\"] = processed_df.eventTimeStart.dt.dayofweek\n",
    "processed_df[\"hours\"] = processed_df.eventTimeStart.dt.hour"
   ]
  },
  {
   "cell_type": "code",
   "execution_count": 4,
   "metadata": {},
   "outputs": [],
   "source": [
    "from sklearn.cluster import KMeans"
   ]
  },
  {
   "cell_type": "code",
   "execution_count": 5,
   "metadata": {},
   "outputs": [
    {
     "name": "stderr",
     "output_type": "stream",
     "text": [
      "/home/artig/miniconda3/envs/mlflow/lib/python3.7/site-packages/sklearn/cluster/_kmeans.py:1032: RuntimeWarning: algorithm='elkan' doesn't make sense for a single cluster. Using 'full' instead.\n",
      "  \"cluster. Using 'full' instead.\", RuntimeWarning)\n"
     ]
    }
   ],
   "source": [
    "X_processed_df = processed_df[['latStart', 'lonStart', 'week', 'dayofweek', 'hours']]\n",
    "inertia = []\n",
    "for n in range(1 , 11):\n",
    "    algorithm = (KMeans(n_clusters = n ,init='k-means++', n_init = 10 ,max_iter=300, \n",
    "                        tol=0.0001,  random_state= 111  , algorithm='elkan') )\n",
    "    algorithm.fit(X_processed_df)\n",
    "    inertia.append(algorithm.inertia_)"
   ]
  },
  {
   "cell_type": "code",
   "execution_count": 6,
   "metadata": {},
   "outputs": [
    {
     "data": {
      "image/png": "[encoded data removed]",
      "text/plain": [
       "<Figure size 1080x432 with 1 Axes>"
      ]
     },
     "metadata": {
      "needs_background": "light"
     },
     "output_type": "display_data"
    }
   ],
   "source": [
    "plt.figure(1 , figsize = (15 ,6))\n",
    "plt.plot(np.arange(1 , 11) , inertia , 'o')\n",
    "plt.plot(np.arange(1 , 11) , inertia , '-' , alpha = 0.5)\n",
    "plt.xlabel('Number of Clusters') , plt.ylabel('Inertia')\n",
    "plt.show()"
   ]
  },
  {
   "cell_type": "code",
   "execution_count": null,
   "metadata": {},
   "outputs": [],
   "source": [
    "algorithm = (KMeans(n_clusters = 5,init='k-means++', n_init = 10 ,max_iter=300, \n",
    "                    tol=0.0001,  random_state= 111  , algorithm='elkan') )\n",
    "algorithm.fit(X_processed_df)\n",
    "joblib.dump(algorithm, 'k-means_cluster.pkl') "
   ]
  },
  {
   "cell_type": "code",
   "execution_count": null,
   "metadata": {},
   "outputs": [],
   "source": [
    "processed_df[\"cluster\"] = algorithm.predict(X_processed_df)"
   ]
  },
  {
   "cell_type": "code",
   "execution_count": null,
   "metadata": {},
   "outputs": [],
   "source": [
    "processed_df.drop([\"eventTimeStart\"], axis=1,inplace=False)"
   ]
  },
  {
   "cell_type": "code",
   "execution_count": null,
   "metadata": {},
   "outputs": [],
   "source": [
    "processed_df.to_csv(\"my_featured_data.csv\", index=False)"
   ]
  },
  {
   "cell_type": "markdown",
   "metadata": {},
   "source": [
    "### Geolocator"
   ]
  },
  {
   "cell_type": "code",
   "execution_count": 9,
   "metadata": {},
   "outputs": [],
   "source": [
    "from geopy.geocoders import Nominatim\n",
    "geolocator = Nominatim(user_agent=\"track&go\")"
   ]
  },
  {
   "cell_type": "code",
   "execution_count": 11,
   "metadata": {},
   "outputs": [],
   "source": [
    "def GetCorrFromAdress(address):\n",
    "    location = geolocator.geocode(address)\n",
    "    return (location.latitude, location.longitude)\n",
    "\n",
    "def GetAddFromCorr(corr):\n",
    "    location = geolocator.reverse(corr)\n",
    "    return location.address"
   ]
  },
  {
   "cell_type": "code",
   "execution_count": 8,
   "metadata": {},
   "outputs": [
    {
     "data": {
      "text/plain": [
       "eventTimeStart    2016-02-04 16:15:09\n",
       "latStart                      40.8093\n",
       "lonStart                     -73.9518\n",
       "latEnd                        40.7181\n",
       "lonEnd                       -73.9855\n",
       "week                                5\n",
       "dayofweek                           3\n",
       "hours                              16\n",
       "Name: 656, dtype: object"
      ]
     },
     "execution_count": 8,
     "metadata": {},
     "output_type": "execute_result"
    }
   ],
   "source": [
    "processed_df.loc[656,:]"
   ]
  },
  {
   "cell_type": "code",
   "execution_count": 13,
   "metadata": {},
   "outputs": [
    {
     "data": {
      "text/plain": [
       "'Aloft Hotel, 2296, Frederick Douglass Boulevard, Harlem, Manhattan Community Board 10, Manhattan, New York County, New York, 10039, United States'"
      ]
     },
     "execution_count": 13,
     "metadata": {},
     "output_type": "execute_result"
    }
   ],
   "source": [
    "GetAddFromCorr((40.8093, -73.9518))"
   ]
  }
 ],
 "metadata": {
  "kernelspec": {
   "display_name": "Python 3",
   "language": "python",
   "name": "python3"
  },
  "language_info": {
   "codemirror_mode": {
    "name": "ipython",
    "version": 3
   },
   "file_extension": ".py",
   "mimetype": "text/x-python",
   "name": "python",
   "nbconvert_exporter": "python",
   "pygments_lexer": "ipython3",
   "version": "3.7.6"
  }
 },
 "nbformat": 4,
 "nbformat_minor": 4
}
