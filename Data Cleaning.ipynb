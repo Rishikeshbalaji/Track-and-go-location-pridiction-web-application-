{
 "cells": [
  {
   "cell_type": "code",
   "execution_count": 3,
   "metadata": {},
   "outputs": [],
   "source": [
    "import pandas as pd\n",
    "import matplotlib.pyplot as plt\n",
    "import numpy as np\n",
    "import joblib\n",
    "# import reverse-geocode"
   ]
  },
  {
   "cell_type": "code",
   "execution_count": 2,
   "metadata": {},
   "outputs": [],
   "source": [
    "master_df = pd.read_csv(\"green_tripdata_2016_02.csv\")"
   ]
  },
  {
   "cell_type": "code",
   "execution_count": 3,
   "metadata": {},
   "outputs": [
    {
     "data": {
      "text/html": [
       "<div>\n",
       "<style scoped>\n",
       "    .dataframe tbody tr th:only-of-type {\n",
       "        vertical-align: middle;\n",
       "    }\n",
       "\n",
       "    .dataframe tbody tr th {\n",
       "        vertical-align: top;\n",
       "    }\n",
       "\n",
       "    .dataframe thead th {\n",
       "        text-align: right;\n",
       "    }\n",
       "</style>\n",
       "<table border=\"1\" class=\"dataframe\">\n",
       "  <thead>\n",
       "    <tr style=\"text-align: right;\">\n",
       "      <th></th>\n",
       "      <th>vendorid</th>\n",
       "      <th>lpep_pickup_datetime</th>\n",
       "      <th>lpep_dropoff_datetime</th>\n",
       "      <th>store_and_fwd_flag</th>\n",
       "      <th>ratecodeid</th>\n",
       "      <th>pickup_longitude</th>\n",
       "      <th>pickup_latitude</th>\n",
       "      <th>dropoff_longitude</th>\n",
       "      <th>dropoff_latitude</th>\n",
       "      <th>passenger_count</th>\n",
       "      <th>...</th>\n",
       "      <th>mta_tax</th>\n",
       "      <th>tip_amount</th>\n",
       "      <th>tolls_amount</th>\n",
       "      <th>ehail_fee</th>\n",
       "      <th>improvement_surcharge</th>\n",
       "      <th>total_amount</th>\n",
       "      <th>payment_type</th>\n",
       "      <th>trip_type</th>\n",
       "      <th>pickup_location</th>\n",
       "      <th>dropoff_location</th>\n",
       "    </tr>\n",
       "  </thead>\n",
       "  <tbody>\n",
       "    <tr>\n",
       "      <th>0</th>\n",
       "      <td>2</td>\n",
       "      <td>2016-02-01T00:00:01</td>\n",
       "      <td>2016-02-01T00:10:06</td>\n",
       "      <td>False</td>\n",
       "      <td>1</td>\n",
       "      <td>-73.939018</td>\n",
       "      <td>40.805214</td>\n",
       "      <td>-73.972534</td>\n",
       "      <td>40.785885</td>\n",
       "      <td>1</td>\n",
       "      <td>...</td>\n",
       "      <td>0.5</td>\n",
       "      <td>0.00</td>\n",
       "      <td>0.0</td>\n",
       "      <td>NaN</td>\n",
       "      <td>0.3</td>\n",
       "      <td>11.80</td>\n",
       "      <td>2</td>\n",
       "      <td>1.0</td>\n",
       "      <td>POINT(-73.939018249511719 40.805213928222656)</td>\n",
       "      <td>POINT(-73.9725341796875 40.785884857177734)</td>\n",
       "    </tr>\n",
       "    <tr>\n",
       "      <th>1</th>\n",
       "      <td>2</td>\n",
       "      <td>2016-02-01T00:01:33</td>\n",
       "      <td>2016-02-01T00:20:13</td>\n",
       "      <td>False</td>\n",
       "      <td>1</td>\n",
       "      <td>-73.891495</td>\n",
       "      <td>40.746651</td>\n",
       "      <td>-73.890877</td>\n",
       "      <td>40.743896</td>\n",
       "      <td>1</td>\n",
       "      <td>...</td>\n",
       "      <td>0.5</td>\n",
       "      <td>0.00</td>\n",
       "      <td>0.0</td>\n",
       "      <td>NaN</td>\n",
       "      <td>0.3</td>\n",
       "      <td>14.30</td>\n",
       "      <td>2</td>\n",
       "      <td>1.0</td>\n",
       "      <td>POINT(-73.891494750976563 40.746650695800781)</td>\n",
       "      <td>POINT(-73.890876770019531 40.743896484375)</td>\n",
       "    </tr>\n",
       "    <tr>\n",
       "      <th>2</th>\n",
       "      <td>2</td>\n",
       "      <td>2016-02-01T00:03:46</td>\n",
       "      <td>2016-02-01T00:21:04</td>\n",
       "      <td>False</td>\n",
       "      <td>1</td>\n",
       "      <td>-73.983780</td>\n",
       "      <td>40.676132</td>\n",
       "      <td>-73.956978</td>\n",
       "      <td>40.718327</td>\n",
       "      <td>1</td>\n",
       "      <td>...</td>\n",
       "      <td>0.5</td>\n",
       "      <td>3.76</td>\n",
       "      <td>0.0</td>\n",
       "      <td>NaN</td>\n",
       "      <td>0.3</td>\n",
       "      <td>22.56</td>\n",
       "      <td>1</td>\n",
       "      <td>1.0</td>\n",
       "      <td>POINT(-73.983779907226562 40.676132202148438)</td>\n",
       "      <td>POINT(-73.956977844238281 40.718326568603516)</td>\n",
       "    </tr>\n",
       "    <tr>\n",
       "      <th>3</th>\n",
       "      <td>2</td>\n",
       "      <td>2016-02-01T00:00:05</td>\n",
       "      <td>2016-02-01T00:06:48</td>\n",
       "      <td>False</td>\n",
       "      <td>1</td>\n",
       "      <td>-73.807518</td>\n",
       "      <td>40.700375</td>\n",
       "      <td>-73.831657</td>\n",
       "      <td>40.705978</td>\n",
       "      <td>1</td>\n",
       "      <td>...</td>\n",
       "      <td>0.5</td>\n",
       "      <td>0.00</td>\n",
       "      <td>0.0</td>\n",
       "      <td>NaN</td>\n",
       "      <td>0.3</td>\n",
       "      <td>9.30</td>\n",
       "      <td>2</td>\n",
       "      <td>1.0</td>\n",
       "      <td>POINT(-73.807518005371094 40.700374603271484)</td>\n",
       "      <td>POINT(-73.831657409667969 40.705978393554687)</td>\n",
       "    </tr>\n",
       "    <tr>\n",
       "      <th>4</th>\n",
       "      <td>2</td>\n",
       "      <td>2016-02-01T00:06:20</td>\n",
       "      <td>2016-02-01T00:08:47</td>\n",
       "      <td>False</td>\n",
       "      <td>1</td>\n",
       "      <td>-73.903961</td>\n",
       "      <td>40.744934</td>\n",
       "      <td>-73.900009</td>\n",
       "      <td>40.733601</td>\n",
       "      <td>5</td>\n",
       "      <td>...</td>\n",
       "      <td>0.5</td>\n",
       "      <td>0.00</td>\n",
       "      <td>0.0</td>\n",
       "      <td>NaN</td>\n",
       "      <td>0.3</td>\n",
       "      <td>6.30</td>\n",
       "      <td>2</td>\n",
       "      <td>1.0</td>\n",
       "      <td>POINT(-73.903961181640625 40.74493408203125)</td>\n",
       "      <td>POINT(-73.900009155273438 40.733600616455078)</td>\n",
       "    </tr>\n",
       "  </tbody>\n",
       "</table>\n",
       "<p>5 rows × 23 columns</p>\n",
       "</div>"
      ],
      "text/plain": [
       "   vendorid lpep_pickup_datetime lpep_dropoff_datetime  store_and_fwd_flag  \\\n",
       "0         2  2016-02-01T00:00:01   2016-02-01T00:10:06               False   \n",
       "1         2  2016-02-01T00:01:33   2016-02-01T00:20:13               False   \n",
       "2         2  2016-02-01T00:03:46   2016-02-01T00:21:04               False   \n",
       "3         2  2016-02-01T00:00:05   2016-02-01T00:06:48               False   \n",
       "4         2  2016-02-01T00:06:20   2016-02-01T00:08:47               False   \n",
       "\n",
       "   ratecodeid  pickup_longitude  pickup_latitude  dropoff_longitude  \\\n",
       "0           1        -73.939018        40.805214         -73.972534   \n",
       "1           1        -73.891495        40.746651         -73.890877   \n",
       "2           1        -73.983780        40.676132         -73.956978   \n",
       "3           1        -73.807518        40.700375         -73.831657   \n",
       "4           1        -73.903961        40.744934         -73.900009   \n",
       "\n",
       "   dropoff_latitude  passenger_count  ...  mta_tax  tip_amount  tolls_amount  \\\n",
       "0         40.785885                1  ...      0.5        0.00           0.0   \n",
       "1         40.743896                1  ...      0.5        0.00           0.0   \n",
       "2         40.718327                1  ...      0.5        3.76           0.0   \n",
       "3         40.705978                1  ...      0.5        0.00           0.0   \n",
       "4         40.733601                5  ...      0.5        0.00           0.0   \n",
       "\n",
       "   ehail_fee  improvement_surcharge  total_amount  payment_type  trip_type  \\\n",
       "0        NaN                    0.3         11.80             2        1.0   \n",
       "1        NaN                    0.3         14.30             2        1.0   \n",
       "2        NaN                    0.3         22.56             1        1.0   \n",
       "3        NaN                    0.3          9.30             2        1.0   \n",
       "4        NaN                    0.3          6.30             2        1.0   \n",
       "\n",
       "                                 pickup_location  \\\n",
       "0  POINT(-73.939018249511719 40.805213928222656)   \n",
       "1  POINT(-73.891494750976563 40.746650695800781)   \n",
       "2  POINT(-73.983779907226562 40.676132202148438)   \n",
       "3  POINT(-73.807518005371094 40.700374603271484)   \n",
       "4   POINT(-73.903961181640625 40.74493408203125)   \n",
       "\n",
       "                                dropoff_location  \n",
       "0    POINT(-73.9725341796875 40.785884857177734)  \n",
       "1     POINT(-73.890876770019531 40.743896484375)  \n",
       "2  POINT(-73.956977844238281 40.718326568603516)  \n",
       "3  POINT(-73.831657409667969 40.705978393554687)  \n",
       "4  POINT(-73.900009155273438 40.733600616455078)  \n",
       "\n",
       "[5 rows x 23 columns]"
      ]
     },
     "execution_count": 3,
     "metadata": {},
     "output_type": "execute_result"
    }
   ],
   "source": [
    "master_df.head()"
   ]
  },
  {
   "cell_type": "code",
   "execution_count": 4,
   "metadata": {},
   "outputs": [],
   "source": [
    "master_df = master_df[[\"lpep_pickup_datetime\",\"lpep_dropoff_datetime\", \"pickup_longitude\", \"pickup_latitude\", \"dropoff_longitude\",\n",
    "                      \"dropoff_latitude\"]]"
   ]
  },
  {
   "cell_type": "code",
   "execution_count": 5,
   "metadata": {},
   "outputs": [
    {
     "data": {
      "text/html": [
       "<div>\n",
       "<style scoped>\n",
       "    .dataframe tbody tr th:only-of-type {\n",
       "        vertical-align: middle;\n",
       "    }\n",
       "\n",
       "    .dataframe tbody tr th {\n",
       "        vertical-align: top;\n",
       "    }\n",
       "\n",
       "    .dataframe thead th {\n",
       "        text-align: right;\n",
       "    }\n",
       "</style>\n",
       "<table border=\"1\" class=\"dataframe\">\n",
       "  <thead>\n",
       "    <tr style=\"text-align: right;\">\n",
       "      <th></th>\n",
       "      <th>lpep_pickup_datetime</th>\n",
       "      <th>lpep_dropoff_datetime</th>\n",
       "      <th>pickup_longitude</th>\n",
       "      <th>pickup_latitude</th>\n",
       "      <th>dropoff_longitude</th>\n",
       "      <th>dropoff_latitude</th>\n",
       "    </tr>\n",
       "  </thead>\n",
       "  <tbody>\n",
       "    <tr>\n",
       "      <th>0</th>\n",
       "      <td>2016-02-01T00:00:01</td>\n",
       "      <td>2016-02-01T00:10:06</td>\n",
       "      <td>-73.939018</td>\n",
       "      <td>40.805214</td>\n",
       "      <td>-73.972534</td>\n",
       "      <td>40.785885</td>\n",
       "    </tr>\n",
       "    <tr>\n",
       "      <th>1</th>\n",
       "      <td>2016-02-01T00:01:33</td>\n",
       "      <td>2016-02-01T00:20:13</td>\n",
       "      <td>-73.891495</td>\n",
       "      <td>40.746651</td>\n",
       "      <td>-73.890877</td>\n",
       "      <td>40.743896</td>\n",
       "    </tr>\n",
       "    <tr>\n",
       "      <th>2</th>\n",
       "      <td>2016-02-01T00:03:46</td>\n",
       "      <td>2016-02-01T00:21:04</td>\n",
       "      <td>-73.983780</td>\n",
       "      <td>40.676132</td>\n",
       "      <td>-73.956978</td>\n",
       "      <td>40.718327</td>\n",
       "    </tr>\n",
       "    <tr>\n",
       "      <th>3</th>\n",
       "      <td>2016-02-01T00:00:05</td>\n",
       "      <td>2016-02-01T00:06:48</td>\n",
       "      <td>-73.807518</td>\n",
       "      <td>40.700375</td>\n",
       "      <td>-73.831657</td>\n",
       "      <td>40.705978</td>\n",
       "    </tr>\n",
       "    <tr>\n",
       "      <th>4</th>\n",
       "      <td>2016-02-01T00:06:20</td>\n",
       "      <td>2016-02-01T00:08:47</td>\n",
       "      <td>-73.903961</td>\n",
       "      <td>40.744934</td>\n",
       "      <td>-73.900009</td>\n",
       "      <td>40.733601</td>\n",
       "    </tr>\n",
       "  </tbody>\n",
       "</table>\n",
       "</div>"
      ],
      "text/plain": [
       "  lpep_pickup_datetime lpep_dropoff_datetime  pickup_longitude  \\\n",
       "0  2016-02-01T00:00:01   2016-02-01T00:10:06        -73.939018   \n",
       "1  2016-02-01T00:01:33   2016-02-01T00:20:13        -73.891495   \n",
       "2  2016-02-01T00:03:46   2016-02-01T00:21:04        -73.983780   \n",
       "3  2016-02-01T00:00:05   2016-02-01T00:06:48        -73.807518   \n",
       "4  2016-02-01T00:06:20   2016-02-01T00:08:47        -73.903961   \n",
       "\n",
       "   pickup_latitude  dropoff_longitude  dropoff_latitude  \n",
       "0        40.805214         -73.972534         40.785885  \n",
       "1        40.746651         -73.890877         40.743896  \n",
       "2        40.676132         -73.956978         40.718327  \n",
       "3        40.700375         -73.831657         40.705978  \n",
       "4        40.744934         -73.900009         40.733601  "
      ]
     },
     "execution_count": 5,
     "metadata": {},
     "output_type": "execute_result"
    }
   ],
   "source": [
    "master_df.head()"
   ]
  },
  {
   "cell_type": "code",
   "execution_count": 6,
   "metadata": {},
   "outputs": [],
   "source": [
    "master_df[\"dropoff_corr\"] = master_df[\"dropoff_latitude\"].astype(\"str\") + \",\" + master_df[\"dropoff_longitude\"].astype(\"str\")"
   ]
  },
  {
   "cell_type": "code",
   "execution_count": 8,
   "metadata": {},
   "outputs": [],
   "source": [
    "#frequent drop locations\n",
    "freq_targets = master_df.dropoff_corr.value_counts().head(1700).index.to_list()[1:]"
   ]
  },
  {
   "cell_type": "code",
   "execution_count": 9,
   "metadata": {},
   "outputs": [],
   "source": [
    "filtered_df = master_df[master_df[\"dropoff_corr\"].isin(freq_targets)]"
   ]
  },
  {
   "cell_type": "code",
   "execution_count": 10,
   "metadata": {},
   "outputs": [
    {
     "name": "stderr",
     "output_type": "stream",
     "text": [
      "/home/artig/miniconda3/envs/mlflow/lib/python3.7/site-packages/pandas/core/frame.py:4117: SettingWithCopyWarning: \n",
      "A value is trying to be set on a copy of a slice from a DataFrame\n",
      "\n",
      "See the caveats in the documentation: http://pandas.pydata.org/pandas-docs/stable/user_guide/indexing.html#returning-a-view-versus-a-copy\n",
      "  errors=errors,\n"
     ]
    }
   ],
   "source": [
    "filtered_df.drop([\"lpep_dropoff_datetime\", \"dropoff_corr\"], axis=1, inplace=True)"
   ]
  },
  {
   "cell_type": "code",
   "execution_count": 11,
   "metadata": {},
   "outputs": [
    {
     "data": {
      "text/plain": [
       "Index(['lpep_pickup_datetime', 'pickup_longitude', 'pickup_latitude',\n",
       "       'dropoff_longitude', 'dropoff_latitude'],\n",
       "      dtype='object')"
      ]
     },
     "execution_count": 11,
     "metadata": {},
     "output_type": "execute_result"
    }
   ],
   "source": [
    "filtered_df.columns"
   ]
  },
  {
   "cell_type": "code",
   "execution_count": 12,
   "metadata": {},
   "outputs": [],
   "source": [
    "filtered_df = filtered_df[['lpep_pickup_datetime', 'pickup_latitude', 'pickup_longitude'\n",
    "       , 'dropoff_latitude', 'dropoff_longitude']]"
   ]
  },
  {
   "cell_type": "code",
   "execution_count": 13,
   "metadata": {},
   "outputs": [],
   "source": [
    "filtered_df.columns = ['eventTimeStart', 'latStart','lonStart', 'latEnd', 'lonEnd']"
   ]
  },
  {
   "cell_type": "code",
   "execution_count": 14,
   "metadata": {},
   "outputs": [],
   "source": [
    "filtered_df.to_csv(\"my_processed_df.csv\", index=False)"
   ]
  }
 ],
 "metadata": {
  "kernelspec": {
   "display_name": "Python 3",
   "language": "python",
   "name": "python3"
  },
  "language_info": {
   "codemirror_mode": {
    "name": "ipython",
    "version": 3
   },
   "file_extension": ".py",
   "mimetype": "text/x-python",
   "name": "python",
   "nbconvert_exporter": "python",
   "pygments_lexer": "ipython3",
   "version": "3.7.6"
  }
 },
 "nbformat": 4,
 "nbformat_minor": 4
}
